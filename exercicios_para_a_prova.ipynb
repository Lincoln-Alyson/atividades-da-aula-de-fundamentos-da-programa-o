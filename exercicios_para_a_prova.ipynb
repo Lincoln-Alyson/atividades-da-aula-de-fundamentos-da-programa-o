{
  "nbformat": 4,
  "nbformat_minor": 0,
  "metadata": {
    "colab": {
      "provenance": [],
      "authorship_tag": "ABX9TyOCS8tTWfh1Q+qJNi4/ubiT",
      "include_colab_link": true
    },
    "kernelspec": {
      "name": "python3",
      "display_name": "Python 3"
    },
    "language_info": {
      "name": "python"
    }
  },
  "cells": [
    {
      "cell_type": "markdown",
      "metadata": {
        "id": "view-in-github",
        "colab_type": "text"
      },
      "source": [
        "<a href=\"https://colab.research.google.com/github/Lincoln-Alyson/atividades-da-aula-de-fundamentos-da-programa-o/blob/main/exercicios_para_a_prova.ipynb\" target=\"_parent\"><img src=\"https://colab.research.google.com/assets/colab-badge.svg\" alt=\"Open In Colab\"/></a>"
      ]
    },
    {
      "cell_type": "code",
      "execution_count": 1,
      "metadata": {
        "colab": {
          "base_uri": "https://localhost:8080/"
        },
        "id": "Egi-dfGlIfhH",
        "outputId": "06d89313-669c-4f7a-dd88-7ca77066421a"
      },
      "outputs": [
        {
          "output_type": "stream",
          "name": "stdout",
          "text": [
            "(3, 2)\n"
          ]
        }
      ],
      "source": [
        "#1 Refaça e complete o codigo para que seja possivel a saida inforada\n",
        "import numpy as np\n",
        "numbers=[[50,3],[21,15],[32,80]]\n",
        "np_array=np.array(numbers)\n",
        "print(np_array.shape)"
      ]
    },
    {
      "cell_type": "code",
      "source": [
        "# Dado a lista seguinte x=[2,5,4,0,7,1], qual o retorno quando executamos x[1] ?\n",
        "x=[2,5,4,0,7,1]\n",
        "print(x[1])"
      ],
      "metadata": {
        "colab": {
          "base_uri": "https://localhost:8080/"
        },
        "id": "aRObwoQkUcTC",
        "outputId": "bc3a1106-e73d-4adf-a723-98f8a9d5b135"
      },
      "execution_count": 2,
      "outputs": [
        {
          "output_type": "stream",
          "name": "stdout",
          "text": [
            "5\n"
          ]
        }
      ]
    },
    {
      "cell_type": "code",
      "source": [
        "#3) Sunponha a lista x_1 = [5,6,4,3], x_2 = [8,9,10,7] e x_3 = [3,6,2,5]. Deseja obter um array com valores médios: media = [m1,m2,m3,m4]. Escreva um código que permita calcular esse array.\n",
        "x_1 = [5,6,4,3]\n",
        "x_2 = [8,9,10,7]\n",
        "x_3 = [3,6,2,5]\n",
        "print(np.mean(x_1))\n",
        "print(np.mean(x_2))\n",
        "print(np.mean(x_3))\n",
        "média=[4.5,8.5,4.0]\n",
        "media_array=média\n",
        "print(np.mean(media_array))"
      ],
      "metadata": {
        "colab": {
          "base_uri": "https://localhost:8080/"
        },
        "id": "Ts0kuKV8VWNd",
        "outputId": "e71a637c-8e24-4034-959d-9b7042f8792b"
      },
      "execution_count": 6,
      "outputs": [
        {
          "output_type": "stream",
          "name": "stdout",
          "text": [
            "4.5\n",
            "8.5\n",
            "4.0\n",
            "5.666666666666667\n"
          ]
        }
      ]
    },
    {
      "cell_type": "code",
      "source": [
        "#4) Crie uma lista que contem 4 listas, em que cada sublista possui 2 itens: um nome e uma idade. Printe a idade do terceira pessoa da lista.\n",
        "lista=[['Lincoln',21],['Alyson',20],['Melo',19],['Lembi',18]]\n",
        "print(lista[2][1])\n"
      ],
      "metadata": {
        "colab": {
          "base_uri": "https://localhost:8080/"
        },
        "id": "w01Qw6flXPs6",
        "outputId": "f0655f17-b680-409b-e791-4a2639122629"
      },
      "execution_count": 9,
      "outputs": [
        {
          "output_type": "stream",
          "name": "stdout",
          "text": [
            "19\n"
          ]
        }
      ]
    },
    {
      "cell_type": "code",
      "source": [
        "#5) Dado a lista p = [1, 16, 13, 6, 12, 14], escreva um código que ordene em modo crescente a lista.\n",
        "p = [1, 16, 13, 6, 12, 14]\n",
        "np.sort(p)"
      ],
      "metadata": {
        "colab": {
          "base_uri": "https://localhost:8080/"
        },
        "id": "KvXrMvFFYfkR",
        "outputId": "d62d3a3d-4815-46ec-bc47-8fa62dfe8a58"
      },
      "execution_count": 10,
      "outputs": [
        {
          "output_type": "execute_result",
          "data": {
            "text/plain": [
              "array([ 1,  6, 12, 13, 14, 16])"
            ]
          },
          "metadata": {},
          "execution_count": 10
        }
      ]
    },
    {
      "cell_type": "code",
      "source": [
        "#6) Dado a lista p = [1, 16, 13, 6, 12, 14], escreva um código que ordene em modo decrescente a lista.\n",
        "p = [1, 16, 13, 6, 12, 14]\n",
        "p.sort(reverse=True)\n",
        "print(p)\n"
      ],
      "metadata": {
        "colab": {
          "base_uri": "https://localhost:8080/"
        },
        "id": "y7dX3mE9ZdPp",
        "outputId": "df7a579f-1dac-4f72-e16f-81094f175bf8"
      },
      "execution_count": 25,
      "outputs": [
        {
          "output_type": "stream",
          "name": "stdout",
          "text": [
            "[16, 14, 13, 12, 6, 1]\n"
          ]
        }
      ]
    },
    {
      "cell_type": "code",
      "source": [
        "#7) Qual dos comandos seguintes indica a chamada de um método de p?\n",
        "#resposta=x(p)"
      ],
      "metadata": {
        "id": "GxaTFdi2es0R"
      },
      "execution_count": 27,
      "outputs": []
    },
    {
      "cell_type": "code",
      "source": [
        "#8) o código seguinte exibe o valor 6. Qual comando deve está no quadradinho para isso ?\n",
        "q=[48,34,6,30,13,33]\n",
        "print(np.array(q[2]))"
      ],
      "metadata": {
        "colab": {
          "base_uri": "https://localhost:8080/"
        },
        "id": "an7Gj8NUfKwa",
        "outputId": "cdc32134-06e1-4971-fd1d-47b72e58aa9b"
      },
      "execution_count": 33,
      "outputs": [
        {
          "output_type": "stream",
          "name": "stdout",
          "text": [
            "6\n"
          ]
        }
      ]
    },
    {
      "cell_type": "code",
      "source": [
        "#9) O que a operação np.array([True, 1, 2]) + np.array([3, 4, False]) retorna ? Tente responder sem executar código.\n",
        "#Vai haver uma validação dos dos termos 'true' e'falso' e depois uma contatenação doas duas listas "
      ],
      "metadata": {
        "id": "cn-ugaNAgcv4"
      },
      "execution_count": 34,
      "outputs": []
    },
    {
      "cell_type": "code",
      "source": [
        "#10) Substitua N1 e N2 por valores que permitam o print do número zero. N1 não é igual a N2.\n",
        "x = [True, 100, 1, 0, False]\n",
        "a = 3\n",
        "b = -2\n",
        "print(x[a] + x[b])\n",
        "print(x[4])"
      ],
      "metadata": {
        "colab": {
          "base_uri": "https://localhost:8080/"
        },
        "id": "738Riq_uhjwW",
        "outputId": "3d91af06-53b0-424b-9624-ac6bcb650b4a"
      },
      "execution_count": 40,
      "outputs": [
        {
          "output_type": "stream",
          "name": "stdout",
          "text": [
            "0\n",
            "False\n"
          ]
        }
      ]
    }
  ]
}
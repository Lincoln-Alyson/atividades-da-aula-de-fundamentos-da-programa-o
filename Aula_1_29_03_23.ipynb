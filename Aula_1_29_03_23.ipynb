{
  "nbformat": 4,
  "nbformat_minor": 0,
  "metadata": {
    "colab": {
      "provenance": [],
      "authorship_tag": "ABX9TyP1+lOuO3aeJgu1OXGKZxCM",
      "include_colab_link": true
    },
    "kernelspec": {
      "name": "python3",
      "display_name": "Python 3"
    },
    "language_info": {
      "name": "python"
    }
  },
  "cells": [
    {
      "cell_type": "markdown",
      "metadata": {
        "id": "view-in-github",
        "colab_type": "text"
      },
      "source": [
        "<a href=\"https://colab.research.google.com/github/Lincoln-Alyson/atividades-da-aula-de-fundamentos-da-programa-o/blob/main/Aula_1_29_03_23.ipynb\" target=\"_parent\"><img src=\"https://colab.research.google.com/assets/colab-badge.svg\" alt=\"Open In Colab\"/></a>"
      ]
    },
    {
      "cell_type": "code",
      "execution_count": null,
      "metadata": {
        "id": "68tUA1yOFnC4"
      },
      "outputs": [],
      "source": [
        " height= 1.79\n",
        "weight= 68.7"
      ]
    },
    {
      "cell_type": "code",
      "source": [
        "weight"
      ],
      "metadata": {
        "colab": {
          "base_uri": "https://localhost:8080/"
        },
        "id": "G9yf22Y4KCUd",
        "outputId": "435751b8-563f-46bc-c8a8-6d7d71ed5a0a"
      },
      "execution_count": null,
      "outputs": [
        {
          "output_type": "execute_result",
          "data": {
            "text/plain": [
              "68.7"
            ]
          },
          "metadata": {},
          "execution_count": 3
        }
      ]
    },
    {
      "cell_type": "code",
      "source": [
        "68.7/1.79**2"
      ],
      "metadata": {
        "colab": {
          "base_uri": "https://localhost:8080/"
        },
        "id": "4Fi92flzLPgm",
        "outputId": "53a09fb3-9ce3-440b-901e-264af8e4335a"
      },
      "execution_count": null,
      "outputs": [
        {
          "output_type": "execute_result",
          "data": {
            "text/plain": [
              "21.44127836209856"
            ]
          },
          "metadata": {},
          "execution_count": 4
        }
      ]
    },
    {
      "cell_type": "code",
      "source": [
        "weight/height**2\n"
      ],
      "metadata": {
        "colab": {
          "base_uri": "https://localhost:8080/"
        },
        "id": "JHxCCaN3LgHf",
        "outputId": "36021c09-4aac-433e-984b-c3d978aa205c"
      },
      "execution_count": null,
      "outputs": [
        {
          "output_type": "execute_result",
          "data": {
            "text/plain": [
              "21.44127836209856"
            ]
          },
          "metadata": {},
          "execution_count": 25
        }
      ]
    },
    {
      "cell_type": "code",
      "source": [
        "bmi=weight/height**2"
      ],
      "metadata": {
        "id": "G1iMDk6yNOr3"
      },
      "execution_count": null,
      "outputs": []
    },
    {
      "cell_type": "code",
      "source": [
        "bmi"
      ],
      "metadata": {
        "colab": {
          "base_uri": "https://localhost:8080/"
        },
        "id": "neLMhhN1NXtW",
        "outputId": "be6a06a3-db06-4dc2-8186-cc1c3e39c245"
      },
      "execution_count": null,
      "outputs": [
        {
          "output_type": "execute_result",
          "data": {
            "text/plain": [
              "21.44127836209856"
            ]
          },
          "metadata": {},
          "execution_count": 27
        }
      ]
    },
    {
      "cell_type": "code",
      "source": [
        "print(bmi)"
      ],
      "metadata": {
        "colab": {
          "base_uri": "https://localhost:8080/"
        },
        "id": "LjjazYK4NlIf",
        "outputId": "e6fedbe9-9dd4-4630-f105-3e01b0628011"
      },
      "execution_count": null,
      "outputs": [
        {
          "output_type": "stream",
          "name": "stdout",
          "text": [
            "21.44127836209856\n"
          ]
        }
      ]
    },
    {
      "cell_type": "code",
      "source": [
        "type(bmi)"
      ],
      "metadata": {
        "colab": {
          "base_uri": "https://localhost:8080/"
        },
        "id": "_BnleBK_Omv3",
        "outputId": "34798674-a107-457a-cd0e-050478b3ae10"
      },
      "execution_count": null,
      "outputs": [
        {
          "output_type": "execute_result",
          "data": {
            "text/plain": [
              "float"
            ]
          },
          "metadata": {},
          "execution_count": 29
        }
      ]
    },
    {
      "cell_type": "code",
      "source": [
        "day_of_week=5"
      ],
      "metadata": {
        "id": "p-V7SSDhOqvQ"
      },
      "execution_count": null,
      "outputs": []
    },
    {
      "cell_type": "code",
      "source": [
        "type(day_of_week)"
      ],
      "metadata": {
        "colab": {
          "base_uri": "https://localhost:8080/"
        },
        "id": "xurQ-MlnOw93",
        "outputId": "4936acc3-5df7-47e4-e43d-8d49bf0c8985"
      },
      "execution_count": null,
      "outputs": [
        {
          "output_type": "execute_result",
          "data": {
            "text/plain": [
              "int"
            ]
          },
          "metadata": {},
          "execution_count": 31
        }
      ]
    },
    {
      "cell_type": "code",
      "source": [
        "x= \"body masss index\"\n",
        "y= 'this works too'"
      ],
      "metadata": {
        "id": "5o33ll2GPQpw"
      },
      "execution_count": null,
      "outputs": []
    },
    {
      "cell_type": "code",
      "source": [
        "type(y)"
      ],
      "metadata": {
        "colab": {
          "base_uri": "https://localhost:8080/"
        },
        "id": "3H71jyRSPhi3",
        "outputId": "1de40068-00fe-4cd1-916b-6ab831f76b0f"
      },
      "execution_count": null,
      "outputs": [
        {
          "output_type": "execute_result",
          "data": {
            "text/plain": [
              "str"
            ]
          },
          "metadata": {},
          "execution_count": 33
        }
      ]
    },
    {
      "cell_type": "code",
      "source": [
        "Z= True"
      ],
      "metadata": {
        "id": "Z2MvIW7XPmBn"
      },
      "execution_count": null,
      "outputs": []
    },
    {
      "cell_type": "code",
      "source": [
        "type(Z)"
      ],
      "metadata": {
        "colab": {
          "base_uri": "https://localhost:8080/"
        },
        "id": "DDkzjGMhQJCw",
        "outputId": "b16f5fcf-a0f2-49c4-9ba5-c6f98d481994"
      },
      "execution_count": null,
      "outputs": [
        {
          "output_type": "execute_result",
          "data": {
            "text/plain": [
              "bool"
            ]
          },
          "metadata": {},
          "execution_count": 39
        }
      ]
    },
    {
      "cell_type": "code",
      "source": [
        "2+3"
      ],
      "metadata": {
        "colab": {
          "base_uri": "https://localhost:8080/"
        },
        "id": "5j8Ii01tQ2pA",
        "outputId": "544f510c-ad22-434e-f573-12438704c79d"
      },
      "execution_count": null,
      "outputs": [
        {
          "output_type": "execute_result",
          "data": {
            "text/plain": [
              "5"
            ]
          },
          "metadata": {},
          "execution_count": 40
        }
      ]
    },
    {
      "cell_type": "code",
      "source": [
        "segunda= 'ab'"
      ],
      "metadata": {
        "id": "uuW90L36Q6Mh"
      },
      "execution_count": null,
      "outputs": []
    },
    {
      "cell_type": "code",
      "source": [
        "sexta= 'cd'"
      ],
      "metadata": {
        "id": "H0sDJwYPRRRJ"
      },
      "execution_count": null,
      "outputs": []
    },
    {
      "cell_type": "code",
      "source": [
        "segunda + sexta"
      ],
      "metadata": {
        "colab": {
          "base_uri": "https://localhost:8080/",
          "height": 35
        },
        "id": "sdyP1GO7RU1R",
        "outputId": "a0358c02-ec9b-4aec-de3b-64b024f11752"
      },
      "execution_count": null,
      "outputs": [
        {
          "output_type": "execute_result",
          "data": {
            "text/plain": [
              "'abcd'"
            ],
            "application/vnd.google.colaboratory.intrinsic+json": {
              "type": "string"
            }
          },
          "metadata": {},
          "execution_count": 44
        }
      ]
    },
    {
      "cell_type": "code",
      "source": [
        "# Example\n",
        "print(5/8)"
      ],
      "metadata": {
        "colab": {
          "base_uri": "https://localhost:8080/"
        },
        "id": "O7F0pNB7SrWR",
        "outputId": "38b847f8-ea8d-4d7b-8b93-59cff03ce560"
      },
      "execution_count": null,
      "outputs": [
        {
          "output_type": "stream",
          "name": "stdout",
          "text": [
            "0.625\n"
          ]
        }
      ]
    },
    {
      "cell_type": "code",
      "source": [
        "# a soma de 7 mais 8\n",
        "print(7+8) \n"
      ],
      "metadata": {
        "colab": {
          "base_uri": "https://localhost:8080/"
        },
        "id": "Kq8qrPofTBUJ",
        "outputId": "4c1bfa44-731f-41f9-98ba-07f054e4d274"
      },
      "execution_count": null,
      "outputs": [
        {
          "output_type": "stream",
          "name": "stdout",
          "text": [
            "15\n"
          ]
        }
      ]
    },
    {
      "cell_type": "code",
      "source": [
        "print(5+3)\n",
        "print(5-3)"
      ],
      "metadata": {
        "colab": {
          "base_uri": "https://localhost:8080/"
        },
        "id": "th6l7kc9T_Xy",
        "outputId": "bf7db43f-6dbd-41ef-bec9-df6a0220a27b"
      },
      "execution_count": null,
      "outputs": [
        {
          "output_type": "stream",
          "name": "stdout",
          "text": [
            "8\n",
            "2\n"
          ]
        }
      ]
    },
    {
      "cell_type": "code",
      "source": [
        "\n",
        "print(5**2)\n",
        "print(3**2)\n",
        "print(5*3)\n",
        "print(5%3)"
      ],
      "metadata": {
        "colab": {
          "base_uri": "https://localhost:8080/"
        },
        "id": "PAnaPxBpUIPI",
        "outputId": "ae8f38e6-70b5-4cd5-927c-255fc6f4b0b8"
      },
      "execution_count": null,
      "outputs": [
        {
          "output_type": "stream",
          "name": "stdout",
          "text": [
            "25\n",
            "9\n",
            "15\n",
            "2\n"
          ]
        }
      ]
    },
    {
      "cell_type": "code",
      "source": [
        "ganho=(100*11/100)**7"
      ],
      "metadata": {
        "id": "7pDlnRHbVpTY"
      },
      "execution_count": null,
      "outputs": []
    },
    {
      "cell_type": "code",
      "source": [
        "print(ganho)"
      ],
      "metadata": {
        "colab": {
          "base_uri": "https://localhost:8080/"
        },
        "id": "w5ONmwCor-1R",
        "outputId": "3cca9377-ffae-4a26-98d7-273500e8b13e"
      },
      "execution_count": null,
      "outputs": [
        {
          "output_type": "stream",
          "name": "stdout",
          "text": [
            "19487171.0\n"
          ]
        }
      ]
    },
    {
      "cell_type": "code",
      "source": [
        "savings=100\n",
        "growth_multiplier=1.1\n",
        "desc=\"compound interest\"\n",
        "year1= (100*1.1)\n",
        "print(type(year1))\n",
        "\n",
        "\n"
      ],
      "metadata": {
        "colab": {
          "base_uri": "https://localhost:8080/"
        },
        "id": "oqQOHqTbtWTG",
        "outputId": "cd13dc2b-5331-459f-8ba5-65e968b15a42"
      },
      "execution_count": null,
      "outputs": [
        {
          "output_type": "stream",
          "name": "stdout",
          "text": [
            "<class 'float'>\n"
          ]
        }
      ]
    },
    {
      "cell_type": "code",
      "source": [
        "print(desc+desc)"
      ],
      "metadata": {
        "colab": {
          "base_uri": "https://localhost:8080/"
        },
        "id": "aepzSF-yyZB-",
        "outputId": "94e628ee-4217-445e-e054-c796dbad8c7f"
      },
      "execution_count": null,
      "outputs": [
        {
          "output_type": "stream",
          "name": "stdout",
          "text": [
            "compound interestcompound interest\n"
          ]
        }
      ]
    },
    {
      "cell_type": "code",
      "source": [
        "pi_string=\"3.1415926\""
      ],
      "metadata": {
        "id": "uhWuz6CHx0kO"
      },
      "execution_count": null,
      "outputs": []
    },
    {
      "cell_type": "code",
      "source": [
        "pi_float=float(pi_string)"
      ],
      "metadata": {
        "id": "ktSSCfHlyC6d"
      },
      "execution_count": null,
      "outputs": []
    },
    {
      "cell_type": "code",
      "source": [
        "print(type(pi_float))"
      ],
      "metadata": {
        "colab": {
          "base_uri": "https://localhost:8080/"
        },
        "id": "uLKU9qlsyOH1",
        "outputId": "060bc764-450a-4d49-c71c-39ed92ded570"
      },
      "execution_count": null,
      "outputs": [
        {
          "output_type": "stream",
          "name": "stdout",
          "text": [
            "<class 'float'>\n"
          ]
        }
      ]
    },
    {
      "cell_type": "code",
      "source": [
        "print(pi_float)"
      ],
      "metadata": {
        "colab": {
          "base_uri": "https://localhost:8080/"
        },
        "id": "dIWFNP1dyfb2",
        "outputId": "38549213-0cbc-4bba-fca7-11ff855b38db"
      },
      "execution_count": null,
      "outputs": [
        {
          "output_type": "stream",
          "name": "stdout",
          "text": [
            "3.1415926\n"
          ]
        }
      ]
    },
    {
      "cell_type": "code",
      "source": [
        "savings=100\n",
        "result=100*1.10**7\n",
        "print(\"I started whit S\"+savings+\"and now have $\"+result+\". Awesome!\")"
      ],
      "metadata": {
        "colab": {
          "base_uri": "https://localhost:8080/",
          "height": 200
        },
        "id": "yFSAX--XzMzG",
        "outputId": "f61f847b-3fbf-4185-b230-94d867db472b"
      },
      "execution_count": null,
      "outputs": [
        {
          "output_type": "error",
          "ename": "TypeError",
          "evalue": "ignored",
          "traceback": [
            "\u001b[0;31m---------------------------------------------------------------------------\u001b[0m",
            "\u001b[0;31mTypeError\u001b[0m                                 Traceback (most recent call last)",
            "\u001b[0;32m<ipython-input-23-fde63423d265>\u001b[0m in \u001b[0;36m<module>\u001b[0;34m\u001b[0m\n\u001b[1;32m      1\u001b[0m \u001b[0msavings\u001b[0m\u001b[0;34m=\u001b[0m\u001b[0;36m100\u001b[0m\u001b[0;34m\u001b[0m\u001b[0;34m\u001b[0m\u001b[0m\n\u001b[1;32m      2\u001b[0m \u001b[0mresult\u001b[0m\u001b[0;34m=\u001b[0m\u001b[0;36m100\u001b[0m\u001b[0;34m*\u001b[0m\u001b[0;36m1.10\u001b[0m\u001b[0;34m**\u001b[0m\u001b[0;36m7\u001b[0m\u001b[0;34m\u001b[0m\u001b[0;34m\u001b[0m\u001b[0m\n\u001b[0;32m----> 3\u001b[0;31m \u001b[0mprint\u001b[0m\u001b[0;34m(\u001b[0m\u001b[0;34m\"I started whit S\"\u001b[0m\u001b[0;34m+\u001b[0m\u001b[0msavings\u001b[0m\u001b[0;34m+\u001b[0m\u001b[0;34m\"and now have $\"\u001b[0m\u001b[0;34m+\u001b[0m\u001b[0mresult\u001b[0m\u001b[0;34m+\u001b[0m\u001b[0;34m\". Awesome!\"\u001b[0m\u001b[0;34m)\u001b[0m\u001b[0;34m\u001b[0m\u001b[0;34m\u001b[0m\u001b[0m\n\u001b[0m",
            "\u001b[0;31mTypeError\u001b[0m: can only concatenate str (not \"int\") to str"
          ]
        }
      ]
    },
    {
      "cell_type": "code",
      "source": [
        "#A concatenação entre strings e inteiros não podem ser realisadas  "
      ],
      "metadata": {
        "id": "EF7PUcBG0Lp1"
      },
      "execution_count": null,
      "outputs": []
    },
    {
      "cell_type": "code",
      "source": [
        "print(\"I started whit S\"+str(savings)+\"and now have $\"+str(result)+\". Awesome!\")"
      ],
      "metadata": {
        "colab": {
          "base_uri": "https://localhost:8080/"
        },
        "id": "HBQxmk3C0gUK",
        "outputId": "437bedfa-25e9-47d1-8369-0e5babbf7336"
      },
      "execution_count": null,
      "outputs": [
        {
          "output_type": "stream",
          "name": "stdout",
          "text": [
            "I started whit S100and now have $194.87171000000012. Awesome!\n"
          ]
        }
      ]
    },
    {
      "cell_type": "code",
      "source": [
        "print(\"I started whit S\",savings,\"and now have $\",result,\". Awesome!\")"
      ],
      "metadata": {
        "colab": {
          "base_uri": "https://localhost:8080/"
        },
        "id": "NwQoDL_j15_-",
        "outputId": "27ff8ef3-4d97-4933-8e55-975195a7d978"
      },
      "execution_count": null,
      "outputs": [
        {
          "output_type": "stream",
          "name": "stdout",
          "text": [
            "I started whit S 100 and now have $ 194.87171000000012 . Awesome!\n"
          ]
        }
      ]
    },
    {
      "cell_type": "code",
      "source": [
        "fam=[1.73,1.68,1.71,1.89]"
      ],
      "metadata": {
        "id": "MQQTJwt39shR"
      },
      "execution_count": null,
      "outputs": []
    },
    {
      "cell_type": "code",
      "source": [
        "print(fam)"
      ],
      "metadata": {
        "colab": {
          "base_uri": "https://localhost:8080/"
        },
        "id": "UyjkQLzj-C1I",
        "outputId": "0f76e6ab-6f6c-4103-b2a4-eeced18fe4df"
      },
      "execution_count": null,
      "outputs": [
        {
          "output_type": "stream",
          "name": "stdout",
          "text": [
            "[1.73, 1.68, 1.71, 1.89]\n"
          ]
        }
      ]
    },
    {
      "cell_type": "code",
      "source": [
        "fam=[\"filho\",1.73,\"filha\",1.68,\"mãe\",1.71,\"pai\",1.89]"
      ],
      "metadata": {
        "id": "ALzU-u4L-ch5"
      },
      "execution_count": null,
      "outputs": []
    },
    {
      "cell_type": "code",
      "source": [
        "print(fam)"
      ],
      "metadata": {
        "colab": {
          "base_uri": "https://localhost:8080/"
        },
        "id": "-D3gAeJz-2UR",
        "outputId": "6aaedbe3-3585-498b-e28e-3a59a35f1a3a"
      },
      "execution_count": null,
      "outputs": [
        {
          "output_type": "stream",
          "name": "stdout",
          "text": [
            "['filho', 1.73, 'filha', 1.68, 'mãe', 1.71, 'pai', 1.89]\n"
          ]
        }
      ]
    },
    {
      "cell_type": "code",
      "source": [
        "fam2=[[\"filho\",1.73],[\"filha\",1.68],[\"mãe\",1.71],[\"pai\",1.89]]\n",
        "fam2"
      ],
      "metadata": {
        "colab": {
          "base_uri": "https://localhost:8080/"
        },
        "id": "0x2Ri31Z_U2z",
        "outputId": "9b0dfe29-eb7a-46d5-c0a4-3af2c02ca671"
      },
      "execution_count": null,
      "outputs": [
        {
          "output_type": "execute_result",
          "data": {
            "text/plain": [
              "[['filho', 1.73], ['filha', 1.68], ['mãe', 1.71], ['pai', 1.89]]"
            ]
          },
          "metadata": {},
          "execution_count": 11
        }
      ]
    },
    {
      "cell_type": "code",
      "source": [
        "type(fam)"
      ],
      "metadata": {
        "colab": {
          "base_uri": "https://localhost:8080/"
        },
        "id": "tSOAykyaBc_b",
        "outputId": "f5b18c65-12c5-4914-8060-a609f8002ea4"
      },
      "execution_count": null,
      "outputs": [
        {
          "output_type": "execute_result",
          "data": {
            "text/plain": [
              "list"
            ]
          },
          "metadata": {},
          "execution_count": 12
        }
      ]
    },
    {
      "cell_type": "code",
      "source": [
        "type(fam2)"
      ],
      "metadata": {
        "colab": {
          "base_uri": "https://localhost:8080/"
        },
        "id": "PYfzQ5crBgRa",
        "outputId": "51b761bd-dfa7-4042-b72f-0dc1c111af2a"
      },
      "execution_count": null,
      "outputs": [
        {
          "output_type": "execute_result",
          "data": {
            "text/plain": [
              "list"
            ]
          },
          "metadata": {},
          "execution_count": 13
        }
      ]
    },
    {
      "cell_type": "code",
      "source": [
        "#variaveis das areas(em metros qudrados)"
      ],
      "metadata": {
        "id": "qURekLw5B0Zi"
      },
      "execution_count": null,
      "outputs": []
    },
    {
      "cell_type": "code",
      "source": [
        "hall=11.25\n",
        "kit=18.0\n",
        "liv=20.0\n",
        "bed=10.75\n",
        "bath=9.50"
      ],
      "metadata": {
        "id": "HBB-cTxJCBHa"
      },
      "execution_count": null,
      "outputs": []
    },
    {
      "cell_type": "code",
      "source": [
        "#criar lista de areas "
      ],
      "metadata": {
        "id": "hnS-6dEmBjCE"
      },
      "execution_count": null,
      "outputs": []
    },
    {
      "cell_type": "code",
      "source": [
        "areas=[\"hall\",hall,\"kit\",kit,\"liv\",liv,\"bed\",bed,\"bath\",bath]"
      ],
      "metadata": {
        "id": "VkQeyUrpCY8K"
      },
      "execution_count": null,
      "outputs": []
    },
    {
      "cell_type": "code",
      "source": [
        "# \"print\" areas"
      ],
      "metadata": {
        "id": "s42j_LiADE98"
      },
      "execution_count": null,
      "outputs": []
    },
    {
      "cell_type": "code",
      "source": [
        "print(areas)"
      ],
      "metadata": {
        "colab": {
          "base_uri": "https://localhost:8080/"
        },
        "id": "bCXa4jFLC__S",
        "outputId": "0c2bc4c4-e02e-41e4-d23a-17e0f3f5323d"
      },
      "execution_count": null,
      "outputs": [
        {
          "output_type": "stream",
          "name": "stdout",
          "text": [
            "['hall', 11.25, 'kit', 18.0, 'liv', 20.0, 'bed', 10.75, 'bath', 9.5]\n"
          ]
        }
      ]
    },
    {
      "cell_type": "code",
      "source": [
        "# A.[1,2,3,4]\n",
        "#Uma lista de sequencia numerica com quatros números inteiros.\n",
        "# B.[[1,2,3],[4,5,7]]\n",
        "#uma sequencia numerica dividida em duas listas dentro de outra lista. \n",
        "# C.[1+2,\"a\"*5,3]\n",
        "#uma lista com uma soma, a string \"a\" repetida cinco vezes e por ultimo o número 3."
      ],
      "metadata": {
        "id": "P0kuCyQ5FCQ7"
      },
      "execution_count": null,
      "outputs": []
    },
    {
      "cell_type": "code",
      "source": [
        "#faça uma lista dentro da lista \"house\""
      ],
      "metadata": {
        "id": "OeYG2KhoGjlT"
      },
      "execution_count": null,
      "outputs": []
    },
    {
      "cell_type": "code",
      "source": [
        "house=[[\"hall\",hall],[\"kit\",kit],[\"liv\",liv],[\"bed\",bed],[\"bath\",bath]]"
      ],
      "metadata": {
        "id": "YcT3gJ0rG2Xk"
      },
      "execution_count": null,
      "outputs": []
    },
    {
      "cell_type": "code",
      "source": [
        "#\"print\" house"
      ],
      "metadata": {
        "id": "9SD7vIQPHYNM"
      },
      "execution_count": null,
      "outputs": []
    },
    {
      "cell_type": "code",
      "source": [
        "print(house)"
      ],
      "metadata": {
        "colab": {
          "base_uri": "https://localhost:8080/"
        },
        "id": "wM8q8N65HQtL",
        "outputId": "34756325-5c87-4d79-8036-a31767de83ae"
      },
      "execution_count": null,
      "outputs": [
        {
          "output_type": "stream",
          "name": "stdout",
          "text": [
            "[['hall', 11.25], ['kit', 18.0], ['liv', 20.0], ['bed', 10.75], ['bath', 9.5]]\n"
          ]
        }
      ]
    },
    {
      "cell_type": "code",
      "source": [
        "#printe o tipo da variavel house"
      ],
      "metadata": {
        "id": "djXrXDPcHdWD"
      },
      "execution_count": null,
      "outputs": []
    },
    {
      "cell_type": "code",
      "source": [
        "print(type(house))"
      ],
      "metadata": {
        "colab": {
          "base_uri": "https://localhost:8080/"
        },
        "id": "f-5QnLn2HUkz",
        "outputId": "db0aae02-3018-40da-e12a-96ed3466affa"
      },
      "execution_count": null,
      "outputs": [
        {
          "output_type": "stream",
          "name": "stdout",
          "text": [
            "<class 'list'>\n"
          ]
        }
      ]
    },
    {
      "cell_type": "code",
      "source": [
        "fam[0]"
      ],
      "metadata": {
        "colab": {
          "base_uri": "https://localhost:8080/",
          "height": 35
        },
        "id": "v3KAtuItH3hT",
        "outputId": "3ba37090-ce8f-4a5d-b308-551b546d2289"
      },
      "execution_count": null,
      "outputs": [
        {
          "output_type": "execute_result",
          "data": {
            "text/plain": [
              "'filho'"
            ],
            "application/vnd.google.colaboratory.intrinsic+json": {
              "type": "string"
            }
          },
          "metadata": {},
          "execution_count": 44
        }
      ]
    },
    {
      "cell_type": "code",
      "source": [
        "areas[2]"
      ],
      "metadata": {
        "colab": {
          "base_uri": "https://localhost:8080/",
          "height": 35
        },
        "id": "Vhcqk9dbIgxy",
        "outputId": "830a0a68-2f67-490d-b23c-3a30cc4c7842"
      },
      "execution_count": null,
      "outputs": [
        {
          "output_type": "execute_result",
          "data": {
            "text/plain": [
              "'kit'"
            ],
            "application/vnd.google.colaboratory.intrinsic+json": {
              "type": "string"
            }
          },
          "metadata": {},
          "execution_count": 47
        }
      ]
    },
    {
      "cell_type": "code",
      "source": [
        "house[-3]"
      ],
      "metadata": {
        "colab": {
          "base_uri": "https://localhost:8080/"
        },
        "id": "6-DeXsvGIyjc",
        "outputId": "17a5d607-9623-4e5f-e98a-09b624ea48a2"
      },
      "execution_count": null,
      "outputs": [
        {
          "output_type": "execute_result",
          "data": {
            "text/plain": [
              "['liv', 20.0]"
            ]
          },
          "metadata": {},
          "execution_count": 48
        }
      ]
    },
    {
      "cell_type": "code",
      "source": [
        "house[3]"
      ],
      "metadata": {
        "colab": {
          "base_uri": "https://localhost:8080/"
        },
        "id": "Kq0qH7JlJCAE",
        "outputId": "125bb89f-7d29-49eb-91d5-6384d0ca8bc4"
      },
      "execution_count": null,
      "outputs": [
        {
          "output_type": "execute_result",
          "data": {
            "text/plain": [
              "['bed', 10.75]"
            ]
          },
          "metadata": {},
          "execution_count": 49
        }
      ]
    },
    {
      "cell_type": "code",
      "source": [
        "fam[6]"
      ],
      "metadata": {
        "colab": {
          "base_uri": "https://localhost:8080/",
          "height": 35
        },
        "id": "ETy9Sf-BJWmj",
        "outputId": "9e8db52e-1059-44a7-de48-fbe4f423b7f8"
      },
      "execution_count": null,
      "outputs": [
        {
          "output_type": "execute_result",
          "data": {
            "text/plain": [
              "'pai'"
            ],
            "application/vnd.google.colaboratory.intrinsic+json": {
              "type": "string"
            }
          },
          "metadata": {},
          "execution_count": 51
        }
      ]
    },
    {
      "cell_type": "code",
      "source": [
        "fam[-1]"
      ],
      "metadata": {
        "colab": {
          "base_uri": "https://localhost:8080/"
        },
        "id": "Hw9SiPx-Jc7p",
        "outputId": "38753296-2c85-4094-8349-5a3aecb3b012"
      },
      "execution_count": null,
      "outputs": [
        {
          "output_type": "execute_result",
          "data": {
            "text/plain": [
              "1.89"
            ]
          },
          "metadata": {},
          "execution_count": 52
        }
      ]
    },
    {
      "cell_type": "code",
      "source": [
        "fam[7]"
      ],
      "metadata": {
        "colab": {
          "base_uri": "https://localhost:8080/"
        },
        "id": "VssodGi2Jmdy",
        "outputId": "411308c8-98e5-4fb6-9274-e0ccb9d81fbd"
      },
      "execution_count": null,
      "outputs": [
        {
          "output_type": "execute_result",
          "data": {
            "text/plain": [
              "1.89"
            ]
          },
          "metadata": {},
          "execution_count": 53
        }
      ]
    },
    {
      "cell_type": "code",
      "source": [
        "fam[1:4]"
      ],
      "metadata": {
        "colab": {
          "base_uri": "https://localhost:8080/"
        },
        "id": "zOjimBNFKX7X",
        "outputId": "b47b78cb-4e4a-4969-8d7e-08630eef9c91"
      },
      "execution_count": null,
      "outputs": [
        {
          "output_type": "execute_result",
          "data": {
            "text/plain": [
              "[1.73, 'filha', 1.68]"
            ]
          },
          "metadata": {},
          "execution_count": 54
        }
      ]
    },
    {
      "cell_type": "code",
      "source": [
        "fam[:]"
      ],
      "metadata": {
        "colab": {
          "base_uri": "https://localhost:8080/"
        },
        "id": "vsMvbSrlKYBL",
        "outputId": "3066aea1-d1a2-409c-813f-5dafe6d62415"
      },
      "execution_count": null,
      "outputs": [
        {
          "output_type": "execute_result",
          "data": {
            "text/plain": [
              "['filho', 1.73, 'filha', 1.68, 'mãe', 1.71, 'pai', 1.89]"
            ]
          },
          "metadata": {},
          "execution_count": 55
        }
      ]
    },
    {
      "cell_type": "code",
      "source": [
        "fam[0:3]"
      ],
      "metadata": {
        "colab": {
          "base_uri": "https://localhost:8080/"
        },
        "id": "zkZc5haFKmwH",
        "outputId": "412eaced-cfb3-429d-81ea-f801f4799084"
      },
      "execution_count": null,
      "outputs": [
        {
          "output_type": "execute_result",
          "data": {
            "text/plain": [
              "['filho', 1.73, 'filha']"
            ]
          },
          "metadata": {},
          "execution_count": 56
        }
      ]
    },
    {
      "cell_type": "code",
      "source": [
        "fam[-7:-3]"
      ],
      "metadata": {
        "colab": {
          "base_uri": "https://localhost:8080/"
        },
        "id": "oexuo5-sKvjl",
        "outputId": "8873f823-f72f-4cfd-e468-63f0c3092b9d"
      },
      "execution_count": null,
      "outputs": [
        {
          "output_type": "execute_result",
          "data": {
            "text/plain": [
              "[1.73, 'filha', 1.68, 'mãe']"
            ]
          },
          "metadata": {},
          "execution_count": 57
        }
      ]
    },
    {
      "cell_type": "code",
      "source": [
        "fam[:4]"
      ],
      "metadata": {
        "colab": {
          "base_uri": "https://localhost:8080/"
        },
        "id": "94tFP2nwLUZ6",
        "outputId": "f972fc7c-16f2-439b-ab9f-b44a5c3d9ad0"
      },
      "execution_count": null,
      "outputs": [
        {
          "output_type": "execute_result",
          "data": {
            "text/plain": [
              "['filho', 1.73, 'filha', 1.68]"
            ]
          },
          "metadata": {},
          "execution_count": 58
        }
      ]
    },
    {
      "cell_type": "code",
      "source": [
        "fam[5:]"
      ],
      "metadata": {
        "colab": {
          "base_uri": "https://localhost:8080/"
        },
        "id": "o3oB0W5pLa7y",
        "outputId": "2da4a150-d1ac-42e7-f881-28cac45ef7a7"
      },
      "execution_count": null,
      "outputs": [
        {
          "output_type": "execute_result",
          "data": {
            "text/plain": [
              "[1.71, 'pai', 1.89]"
            ]
          },
          "metadata": {},
          "execution_count": 59
        }
      ]
    },
    {
      "cell_type": "code",
      "source": [
        "#exiba o segundo elemento da lista. "
      ],
      "metadata": {
        "id": "7-ZJrApnMLyZ"
      },
      "execution_count": null,
      "outputs": []
    },
    {
      "cell_type": "code",
      "source": [
        "areas[1]"
      ],
      "metadata": {
        "colab": {
          "base_uri": "https://localhost:8080/"
        },
        "id": "8auI2cyqLovn",
        "outputId": "d4be59d1-3f5c-43a4-b796-889c4ecd95d0"
      },
      "execution_count": null,
      "outputs": [
        {
          "output_type": "execute_result",
          "data": {
            "text/plain": [
              "11.25"
            ]
          },
          "metadata": {},
          "execution_count": 60
        }
      ]
    },
    {
      "cell_type": "code",
      "source": [
        "#exiba o ultimo elemento da lista usando o index negativo."
      ],
      "metadata": {
        "id": "u7OrMvv6MTPR"
      },
      "execution_count": null,
      "outputs": []
    },
    {
      "cell_type": "code",
      "source": [
        "areas[-1]"
      ],
      "metadata": {
        "colab": {
          "base_uri": "https://localhost:8080/"
        },
        "id": "KYtQNcPzMAn8",
        "outputId": "e7515de5-2fe6-4672-91e9-b9e54890053f"
      },
      "execution_count": null,
      "outputs": [
        {
          "output_type": "execute_result",
          "data": {
            "text/plain": [
              "9.5"
            ]
          },
          "metadata": {},
          "execution_count": 61
        }
      ]
    },
    {
      "cell_type": "code",
      "source": [
        "#exiba o elemento que indica a área de \"liv\""
      ],
      "metadata": {
        "id": "BwDgKEP8MjQN"
      },
      "execution_count": null,
      "outputs": []
    },
    {
      "cell_type": "code",
      "source": [
        "areas[5]"
      ],
      "metadata": {
        "colab": {
          "base_uri": "https://localhost:8080/"
        },
        "id": "hLy6hq3RMEXb",
        "outputId": "c86d343a-b4c1-4d3b-9a78-c9f462d848b1"
      },
      "execution_count": null,
      "outputs": [
        {
          "output_type": "execute_result",
          "data": {
            "text/plain": [
              "20.0"
            ]
          },
          "metadata": {},
          "execution_count": 62
        }
      ]
    },
    {
      "cell_type": "code",
      "source": [
        "areas=[\"hall\",hall,\"kit\",kit,\"liv\",liv,\"bed\",bed,\"bath\",bath]\n",
        "\n",
        "eat_sleep_area= areas[3] + areas[5] \n",
        "\n",
        "print(eat_sleep_area)"
      ],
      "metadata": {
        "colab": {
          "base_uri": "https://localhost:8080/"
        },
        "id": "HEs9y3TksBq5",
        "outputId": "ff94ce9a-26c2-4d8f-ffa1-50cd1edb266f"
      },
      "execution_count": null,
      "outputs": [
        {
          "output_type": "stream",
          "name": "stdout",
          "text": [
            "38.0\n"
          ]
        }
      ]
    },
    {
      "cell_type": "code",
      "source": [
        "areas=[\"hall\",hall,\"kit\",kit,\"liv\",liv,\"bed\",bed,\"bath\",bath]\n",
        "\n",
        "downstairs=areas[:7]\n",
        "\n",
        "print(downstairs)\n",
        "\n"
      ],
      "metadata": {
        "colab": {
          "base_uri": "https://localhost:8080/"
        },
        "id": "_ThpBFwAwgB9",
        "outputId": "deddf238-57ca-4e91-8748-c8308840c86b"
      },
      "execution_count": null,
      "outputs": [
        {
          "output_type": "stream",
          "name": "stdout",
          "text": [
            "['hall', 11.25, 'kit', 18.0, 'liv', 20.0, 'bed']\n"
          ]
        }
      ]
    },
    {
      "cell_type": "code",
      "source": [
        "areas=[\"hall\",hall,\"kit\",kit,\"liv\",liv,\"bed\",bed,\"bath\",bath]\n",
        "\n",
        "upstairs=areas[-4:]\n",
        "\n",
        "print(upstairs)"
      ],
      "metadata": {
        "colab": {
          "base_uri": "https://localhost:8080/"
        },
        "id": "Jtj9sknexMbJ",
        "outputId": "a7186330-f95d-41ab-a125-bc0bf2690a3b"
      },
      "execution_count": null,
      "outputs": [
        {
          "output_type": "stream",
          "name": "stdout",
          "text": [
            "['bed', 10.75, 'bath', 9.5]\n"
          ]
        }
      ]
    },
    {
      "cell_type": "code",
      "source": [
        "x=[['a','b','c'],['d','e','f'],['g','h','i']]\n",
        "x[2][0]"
      ],
      "metadata": {
        "colab": {
          "base_uri": "https://localhost:8080/",
          "height": 35
        },
        "id": "ID43yrObyFa0",
        "outputId": "4d05dd3f-b5d9-4eaa-d778-6d04b9f4483b"
      },
      "execution_count": null,
      "outputs": [
        {
          "output_type": "execute_result",
          "data": {
            "text/plain": [
              "'g'"
            ],
            "application/vnd.google.colaboratory.intrinsic+json": {
              "type": "string"
            }
          },
          "metadata": {},
          "execution_count": 23
        }
      ]
    },
    {
      "cell_type": "code",
      "source": [
        "house=[[\"hall\",hall],[\"kit\",kit],[\"liv\",liv],[\"bed\",bed],[\"bath\",bath]]\n",
        "house[-1][1]"
      ],
      "metadata": {
        "colab": {
          "base_uri": "https://localhost:8080/"
        },
        "id": "V-irEPN3yvF7",
        "outputId": "a4a990ff-c778-44ba-c073-b18d15122c1c"
      },
      "execution_count": null,
      "outputs": [
        {
          "output_type": "execute_result",
          "data": {
            "text/plain": [
              "9.5"
            ]
          },
          "metadata": {},
          "execution_count": 21
        }
      ]
    },
    {
      "cell_type": "code",
      "source": [
        "fam=[\"filho\",1.73,\"filha\",1.68,\"mãe\",1.71,\"pai\",1.89]\n",
        "fam[7]=1.86\n",
        "fam[0:2]=[\"lisa\",1.74]\n",
        "# aqui eu substitui os valores que estavam atribuidos à lista, modificando assim a mesma "
      ],
      "metadata": {
        "id": "oej4NyrszOnG"
      },
      "execution_count": null,
      "outputs": []
    },
    {
      "cell_type": "code",
      "source": [
        "print(fam)"
      ],
      "metadata": {
        "colab": {
          "base_uri": "https://localhost:8080/"
        },
        "id": "ArAYkI711ixV",
        "outputId": "b5b7e916-04dc-4b7e-9541-943a0b338348"
      },
      "execution_count": null,
      "outputs": [
        {
          "output_type": "stream",
          "name": "stdout",
          "text": [
            "['lisa', 1.74, 'filha', 1.68, 'mãe', 1.71, 'pai', 1.86]\n"
          ]
        }
      ]
    },
    {
      "cell_type": "code",
      "source": [
        "fam+ [\"me\",1.77]\n",
        "#como adicionar um item em uma lista"
      ],
      "metadata": {
        "colab": {
          "base_uri": "https://localhost:8080/"
        },
        "id": "_eadSXfF2IJ9",
        "outputId": "cb94df06-454b-4230-bea2-6d84440d9376"
      },
      "execution_count": null,
      "outputs": [
        {
          "output_type": "execute_result",
          "data": {
            "text/plain": [
              "['lisa', 1.74, 'mãe', 1.71, 'pai', 1.86, 'me', 1.77]"
            ]
          },
          "metadata": {},
          "execution_count": 31
        }
      ]
    },
    {
      "cell_type": "code",
      "source": [
        "del(fam[2])\n",
        "#como deletar um item de uma lista"
      ],
      "metadata": {
        "id": "AETzNf0O26f7"
      },
      "execution_count": null,
      "outputs": []
    },
    {
      "cell_type": "code",
      "source": [
        "print(fam)"
      ],
      "metadata": {
        "colab": {
          "base_uri": "https://localhost:8080/"
        },
        "id": "0uY-Dgkt3AG7",
        "outputId": "81950daa-9bce-4f9c-d65d-45f66b4203c9"
      },
      "execution_count": null,
      "outputs": [
        {
          "output_type": "stream",
          "name": "stdout",
          "text": [
            "['lisa', 1.74, 1.68, 'mãe', 1.71, 'pai', 1.86]\n"
          ]
        }
      ]
    },
    {
      "cell_type": "code",
      "source": [
        "x=['a','b','c']\n",
        "y=x\n",
        "y[1]= 'z'\n",
        "print(y)\n",
        "#aqui eu direcionei 'x' e 'y' para o mesmo lugar na mémoria do pc, ou seja os dois aderiram ao mesmo valor "
      ],
      "metadata": {
        "colab": {
          "base_uri": "https://localhost:8080/"
        },
        "id": "tQ02d_U33iTu",
        "outputId": "5c5d320a-7c38-484f-8f7d-96687328455a"
      },
      "execution_count": null,
      "outputs": [
        {
          "output_type": "stream",
          "name": "stdout",
          "text": [
            "['a', 'z', 'c']\n"
          ]
        }
      ]
    },
    {
      "cell_type": "code",
      "source": [
        "print(x)"
      ],
      "metadata": {
        "colab": {
          "base_uri": "https://localhost:8080/"
        },
        "id": "Si-zlGp257jl",
        "outputId": "e3a05599-823e-4694-b081-a01315344735"
      },
      "execution_count": null,
      "outputs": [
        {
          "output_type": "stream",
          "name": "stdout",
          "text": [
            "['a', 'z', 'c']\n"
          ]
        }
      ]
    },
    {
      "cell_type": "code",
      "source": [
        "x=['a','b','c']\n",
        "y=list(x)\n",
        "print(x)\n",
        "print(y)"
      ],
      "metadata": {
        "colab": {
          "base_uri": "https://localhost:8080/"
        },
        "id": "V33I6_dU5-4s",
        "outputId": "72d3bf7c-5437-4ad7-cd11-1f846fe19f71"
      },
      "execution_count": null,
      "outputs": [
        {
          "output_type": "stream",
          "name": "stdout",
          "text": [
            "['a', 'b', 'c']\n",
            "['a', 'b', 'c']\n"
          ]
        }
      ]
    },
    {
      "cell_type": "code",
      "source": [
        "y=x[:]\n",
        "y[1]=\"Z\"\n",
        "print(y)\n",
        "print(x)\n",
        "# já aqui eu simplismente fiz de 'y' uma copia de 'x', diferindo o valor dos dois "
      ],
      "metadata": {
        "colab": {
          "base_uri": "https://localhost:8080/"
        },
        "id": "HWeAunw76j8s",
        "outputId": "5823bfbb-e810-4e4f-995c-06197ef04776"
      },
      "execution_count": null,
      "outputs": [
        {
          "output_type": "stream",
          "name": "stdout",
          "text": [
            "['a', 'Z', 'c']\n",
            "['a', 'b', 'c']\n"
          ]
        }
      ]
    },
    {
      "cell_type": "code",
      "source": [
        "areas=[\"hall\",hall,\"kit\",kit,\"liv\",liv,\"bed\",bed,\"bath\",bath]\n",
        "areas[9]=10.5\n",
        "print(areas)"
      ],
      "metadata": {
        "colab": {
          "base_uri": "https://localhost:8080/"
        },
        "id": "ZBN4QZrR7u_F",
        "outputId": "26ae9c03-51fd-417f-b486-02c48d254b05"
      },
      "execution_count": null,
      "outputs": [
        {
          "output_type": "stream",
          "name": "stdout",
          "text": [
            "['hall', 11.25, 'kit', 18.0, 'liv', 20.0, 'bed', 10.75, 'bath', 10.5]\n"
          ]
        }
      ]
    },
    {
      "cell_type": "code",
      "source": [
        "areas=[\"hall\",hall,\"kit\",kit,\"liv\",liv,\"bed\",bed,\"bath\",bath]\n",
        "areas[4]= \"chill zone\"\n",
        "print(areas)"
      ],
      "metadata": {
        "colab": {
          "base_uri": "https://localhost:8080/"
        },
        "id": "tKLLJ-HM8Gtg",
        "outputId": "66bbe2d7-1db1-4025-f30e-b9816e603138"
      },
      "execution_count": null,
      "outputs": [
        {
          "output_type": "stream",
          "name": "stdout",
          "text": [
            "['hall', 11.25, 'kit', 18.0, 'chill zone', 20.0, 'bed', 10.75, 'bath', 9.5]\n"
          ]
        }
      ]
    },
    {
      "cell_type": "code",
      "source": [
        "hall=11.25\n",
        "kit=18.0\n",
        "liv=20.0\n",
        "bed=10.75\n",
        "bath=10.50\n",
        "areas=[\"hall\",hall,\"kit\",kit,\"liv\",liv,\"bed\",bed,\"bath\",bath]\n",
        "areas + [\"poolhouse\",24.5]\n"
      ],
      "metadata": {
        "id": "GtugjgDNXwnu",
        "colab": {
          "base_uri": "https://localhost:8080/"
        },
        "outputId": "977d1e9d-3320-4fe4-d8b2-c99ffed3e52a"
      },
      "execution_count": 13,
      "outputs": [
        {
          "output_type": "execute_result",
          "data": {
            "text/plain": [
              "['hall',\n",
              " 11.25,\n",
              " 'kit',\n",
              " 18.0,\n",
              " 'liv',\n",
              " 20.0,\n",
              " 'bed',\n",
              " 10.75,\n",
              " 'bath',\n",
              " 10.5,\n",
              " 'poolhouse',\n",
              " 24.5]"
            ]
          },
          "metadata": {},
          "execution_count": 13
        }
      ]
    },
    {
      "cell_type": "code",
      "source": [
        "print(areas)"
      ],
      "metadata": {
        "colab": {
          "base_uri": "https://localhost:8080/"
        },
        "id": "mnZ1Y7304TTE",
        "outputId": "06f31c6f-58fa-442b-c8ec-7f35b87bceef"
      },
      "execution_count": 14,
      "outputs": [
        {
          "output_type": "stream",
          "name": "stdout",
          "text": [
            "['hall', 11.25, 'kit', 18.0, 'liv', 20.0, 'bed', 10.75, 'bath', 10.5]\n"
          ]
        }
      ]
    },
    {
      "cell_type": "code",
      "source": [
        "areas_1=['hall',\n",
        " 11.25,\n",
        " 'kit',\n",
        " 18.0,\n",
        " 'liv',\n",
        " 20.0,\n",
        " 'bed',\n",
        " 10.75,\n",
        " 'bath',\n",
        " 10.5,\n",
        " 'poolhouse',\n",
        " 24.5]"
      ],
      "metadata": {
        "id": "_UohD7pS4zH9"
      },
      "execution_count": 15,
      "outputs": []
    },
    {
      "cell_type": "code",
      "source": [
        "print(areas_1)"
      ],
      "metadata": {
        "colab": {
          "base_uri": "https://localhost:8080/"
        },
        "id": "mCNokD6l4-pR",
        "outputId": "fa3700b5-969b-45d6-d34f-eacff4d88000"
      },
      "execution_count": 16,
      "outputs": [
        {
          "output_type": "stream",
          "name": "stdout",
          "text": [
            "['hall', 11.25, 'kit', 18.0, 'liv', 20.0, 'bed', 10.75, 'bath', 10.5, 'poolhouse', 24.5]\n"
          ]
        }
      ]
    },
    {
      "cell_type": "code",
      "source": [
        "areas_1=['hall', 11.25, 'kit', 18.0, 'liv', 20.0, 'bed', 10.75, 'bath', 10.5, 'poolhouse', 24.5]\n",
        "areas_1+[\"garagem\",15.5]\n"
      ],
      "metadata": {
        "colab": {
          "base_uri": "https://localhost:8080/"
        },
        "id": "ql1HzlLB5CT8",
        "outputId": "33ac414f-5514-492f-fed4-f5e81f165366"
      },
      "execution_count": 19,
      "outputs": [
        {
          "output_type": "execute_result",
          "data": {
            "text/plain": [
              "['hall',\n",
              " 11.25,\n",
              " 'kit',\n",
              " 18.0,\n",
              " 'liv',\n",
              " 20.0,\n",
              " 'bed',\n",
              " 10.75,\n",
              " 'bath',\n",
              " 10.5,\n",
              " 'poolhouse',\n",
              " 24.5,\n",
              " 'garagem',\n",
              " 15.5]"
            ]
          },
          "metadata": {},
          "execution_count": 19
        }
      ]
    },
    {
      "cell_type": "code",
      "source": [
        "areas_2=['hall',\n",
        " 11.25,\n",
        " 'kit',\n",
        " 18.0,\n",
        " 'liv',\n",
        " 20.0,\n",
        " 'bed',\n",
        " 10.75,\n",
        " 'bath',\n",
        " 10.5,\n",
        " 'poolhouse',\n",
        " 24.5,\n",
        " 'garagem',\n",
        " 15.5]"
      ],
      "metadata": {
        "id": "VTtWZFZh5vjU"
      },
      "execution_count": 22,
      "outputs": []
    },
    {
      "cell_type": "code",
      "source": [
        "print(areas_2)"
      ],
      "metadata": {
        "colab": {
          "base_uri": "https://localhost:8080/"
        },
        "id": "zB5yVWd254r5",
        "outputId": "601cbafe-c3d7-4f12-c53a-3c050d9823e9"
      },
      "execution_count": 23,
      "outputs": [
        {
          "output_type": "stream",
          "name": "stdout",
          "text": [
            "['hall', 11.25, 'kit', 18.0, 'liv', 20.0, 'bed', 10.75, 'bath', 10.5, 'poolhouse', 24.5, 'garagem', 15.5]\n"
          ]
        }
      ]
    },
    {
      "cell_type": "code",
      "source": [
        "areas=[11.25,18.0,20.0,10.75,9.50]\n",
        "areas_copy= areas\n",
        "areas_copy[0]=5.0\n",
        "print(areas)"
      ],
      "metadata": {
        "colab": {
          "base_uri": "https://localhost:8080/"
        },
        "id": "zDqSidfz6JCZ",
        "outputId": "82ab0ea0-f4b1-46f2-c270-12831d2b1ce2"
      },
      "execution_count": 25,
      "outputs": [
        {
          "output_type": "stream",
          "name": "stdout",
          "text": [
            "[5.0, 18.0, 20.0, 10.75, 9.5]\n"
          ]
        }
      ]
    }
  ]
}
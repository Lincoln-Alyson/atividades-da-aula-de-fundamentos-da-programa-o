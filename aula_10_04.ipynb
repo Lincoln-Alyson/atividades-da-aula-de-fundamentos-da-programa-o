{
  "nbformat": 4,
  "nbformat_minor": 0,
  "metadata": {
    "colab": {
      "provenance": [],
      "authorship_tag": "ABX9TyM+E6CqPhNJ6stGHcWPfXcX",
      "include_colab_link": true
    },
    "kernelspec": {
      "name": "python3",
      "display_name": "Python 3"
    },
    "language_info": {
      "name": "python"
    }
  },
  "cells": [
    {
      "cell_type": "markdown",
      "metadata": {
        "id": "view-in-github",
        "colab_type": "text"
      },
      "source": [
        "<a href=\"https://colab.research.google.com/github/Lincoln-Alyson/atividades-da-aula-de-fundamentos-da-programa-o/blob/main/aula_10_04.ipynb\" target=\"_parent\"><img src=\"https://colab.research.google.com/assets/colab-badge.svg\" alt=\"Open In Colab\"/></a>"
      ]
    },
    {
      "cell_type": "code",
      "source": [
        "import numpy as np"
      ],
      "metadata": {
        "id": "SAqOQtu1FefF"
      },
      "execution_count": 5,
      "outputs": []
    },
    {
      "cell_type": "code",
      "source": [
        "np_2d= np.array([[1.73,1.68,1.71,1.89,1.79],[65.4,59.2,63.6,88.4,68.7]])\n",
        "np_2d"
      ],
      "metadata": {
        "colab": {
          "base_uri": "https://localhost:8080/"
        },
        "id": "QNbbatQDFmn0",
        "outputId": "a0142596-b83d-4bb7-bc5a-532735bd96fc"
      },
      "execution_count": 6,
      "outputs": [
        {
          "output_type": "execute_result",
          "data": {
            "text/plain": [
              "array([[ 1.73,  1.68,  1.71,  1.89,  1.79],\n",
              "       [65.4 , 59.2 , 63.6 , 88.4 , 68.7 ]])"
            ]
          },
          "metadata": {},
          "execution_count": 6
        }
      ]
    },
    {
      "cell_type": "code",
      "source": [
        "np_2d.shape"
      ],
      "metadata": {
        "colab": {
          "base_uri": "https://localhost:8080/"
        },
        "id": "IDVG0l7oFvZV",
        "outputId": "b3c0f03e-5523-4bc9-b955-1eb6fa9cbfe1"
      },
      "execution_count": 7,
      "outputs": [
        {
          "output_type": "execute_result",
          "data": {
            "text/plain": [
              "(2, 5)"
            ]
          },
          "metadata": {},
          "execution_count": 7
        }
      ]
    },
    {
      "cell_type": "code",
      "source": [
        "np.array([[1.73,1.68,1.71,1.89,1.79],[65.4,59.2,63.6,88.4,\"68.7\"]])"
      ],
      "metadata": {
        "colab": {
          "base_uri": "https://localhost:8080/"
        },
        "id": "sIw9JkomF2v8",
        "outputId": "26603226-06ba-4dac-aaf4-bb03d5c859eb"
      },
      "execution_count": 9,
      "outputs": [
        {
          "output_type": "execute_result",
          "data": {
            "text/plain": [
              "array([['1.73', '1.68', '1.71', '1.89', '1.79'],\n",
              "       ['65.4', '59.2', '63.6', '88.4', '68.7']], dtype='<U32')"
            ]
          },
          "metadata": {},
          "execution_count": 9
        }
      ]
    },
    {
      "cell_type": "code",
      "source": [
        "np_3d=np.array([[1.73,1.68,1.71,1.89,1.79],[65.4,59.2,63.6,88.4,68.7],[89.4,45.6,28.4,76.1,43.8]])"
      ],
      "metadata": {
        "id": "d4p0NPIqGUV9"
      },
      "execution_count": 12,
      "outputs": []
    },
    {
      "cell_type": "code",
      "source": [
        "np_3d.shape"
      ],
      "metadata": {
        "colab": {
          "base_uri": "https://localhost:8080/"
        },
        "id": "Dh_x2xi_IR0F",
        "outputId": "392a8379-fab6-44c7-ae5f-43421aa074c5"
      },
      "execution_count": 13,
      "outputs": [
        {
          "output_type": "execute_result",
          "data": {
            "text/plain": [
              "(3, 5)"
            ]
          },
          "metadata": {},
          "execution_count": 13
        }
      ]
    },
    {
      "cell_type": "code",
      "source": [
        "np_4d=np.array([[1,2,3],[4,5,6],[7,8,9]])"
      ],
      "metadata": {
        "id": "FaOM7-0nIgjb"
      },
      "execution_count": 14,
      "outputs": []
    },
    {
      "cell_type": "code",
      "source": [
        "np_4d.shape"
      ],
      "metadata": {
        "colab": {
          "base_uri": "https://localhost:8080/"
        },
        "id": "hxmT_KfCIxjT",
        "outputId": "0021dd9d-d677-413d-cf8a-5da73de20678"
      },
      "execution_count": 15,
      "outputs": [
        {
          "output_type": "execute_result",
          "data": {
            "text/plain": [
              "(3, 3)"
            ]
          },
          "metadata": {},
          "execution_count": 15
        }
      ]
    },
    {
      "cell_type": "code",
      "source": [
        "np_2d[0]"
      ],
      "metadata": {
        "colab": {
          "base_uri": "https://localhost:8080/"
        },
        "id": "kx3hpXJ3JDF0",
        "outputId": "48e97ef7-f4ef-4247-9a75-d5c26b47aaa3"
      },
      "execution_count": 16,
      "outputs": [
        {
          "output_type": "execute_result",
          "data": {
            "text/plain": [
              "array(['1.73', '1.68', '1.71', '1.89', '1.79'], dtype='<U32')"
            ]
          },
          "metadata": {},
          "execution_count": 16
        }
      ]
    },
    {
      "cell_type": "code",
      "source": [
        "np_2d[0][2]"
      ],
      "metadata": {
        "colab": {
          "base_uri": "https://localhost:8080/",
          "height": 35
        },
        "id": "0LKQaf_yJHWT",
        "outputId": "3fd79aaf-623c-4a98-ed91-230b007c1d65"
      },
      "execution_count": 17,
      "outputs": [
        {
          "output_type": "execute_result",
          "data": {
            "text/plain": [
              "'1.71'"
            ],
            "application/vnd.google.colaboratory.intrinsic+json": {
              "type": "string"
            }
          },
          "metadata": {},
          "execution_count": 17
        }
      ]
    },
    {
      "cell_type": "code",
      "source": [
        "np_2d[0,2]"
      ],
      "metadata": {
        "colab": {
          "base_uri": "https://localhost:8080/",
          "height": 35
        },
        "id": "O6mUIv1DJNrs",
        "outputId": "75d7954b-2c8c-4d78-d87e-7afe8d752409"
      },
      "execution_count": 18,
      "outputs": [
        {
          "output_type": "execute_result",
          "data": {
            "text/plain": [
              "'1.71'"
            ],
            "application/vnd.google.colaboratory.intrinsic+json": {
              "type": "string"
            }
          },
          "metadata": {},
          "execution_count": 18
        }
      ]
    },
    {
      "cell_type": "code",
      "source": [
        "np_2d[:,1:3]"
      ],
      "metadata": {
        "colab": {
          "base_uri": "https://localhost:8080/"
        },
        "id": "68Gr02EnJ1AU",
        "outputId": "7d74ea86-f9b0-468d-fc2e-7a11337948e7"
      },
      "execution_count": 19,
      "outputs": [
        {
          "output_type": "execute_result",
          "data": {
            "text/plain": [
              "array([['1.68', '1.71'],\n",
              "       ['59.2', '63.6']], dtype='<U32')"
            ]
          },
          "metadata": {},
          "execution_count": 19
        }
      ]
    },
    {
      "cell_type": "code",
      "source": [
        "np_2d[1,:]"
      ],
      "metadata": {
        "colab": {
          "base_uri": "https://localhost:8080/"
        },
        "id": "bqPCKdAfKHAC",
        "outputId": "7268d9a9-6f51-4531-fcc2-7f0424483df0"
      },
      "execution_count": 20,
      "outputs": [
        {
          "output_type": "execute_result",
          "data": {
            "text/plain": [
              "array(['65.4', '59.2', '63.6', '88.4', '68.7'], dtype='<U32')"
            ]
          },
          "metadata": {},
          "execution_count": 20
        }
      ]
    },
    {
      "cell_type": "code",
      "source": [
        "baseball=[180,215,210,210,188,176,209,200]"
      ],
      "metadata": {
        "id": "0Y9PkYRMKOWc"
      },
      "execution_count": 21,
      "outputs": []
    },
    {
      "cell_type": "code",
      "source": [
        "#1\n",
        "import numpy as np"
      ],
      "metadata": {
        "id": "jS04ClFQKfh7"
      },
      "execution_count": 23,
      "outputs": []
    },
    {
      "cell_type": "code",
      "source": [
        "#2\n",
        "np_baseball=np.array([180,215,210,210,188,176,209,200])"
      ],
      "metadata": {
        "id": "PT_NDY2QKmHa"
      },
      "execution_count": 25,
      "outputs": []
    },
    {
      "cell_type": "code",
      "source": [
        "#3\n",
        "print(np_baseball)"
      ],
      "metadata": {
        "colab": {
          "base_uri": "https://localhost:8080/"
        },
        "id": "ajw3SQCdLT3s",
        "outputId": "f111b539-1f69-42bd-a16a-f3d52c1b47fe"
      },
      "execution_count": 26,
      "outputs": [
        {
          "output_type": "stream",
          "name": "stdout",
          "text": [
            "[180 215 210 210 188 176 209 200]\n"
          ]
        }
      ]
    },
    {
      "cell_type": "code",
      "source": [
        "#4\n",
        "np_baseball.shape"
      ],
      "metadata": {
        "colab": {
          "base_uri": "https://localhost:8080/"
        },
        "id": "jgJy-vj2Ldz6",
        "outputId": "8425593c-32d2-4a5a-e04c-1e3def285bbb"
      },
      "execution_count": 27,
      "outputs": [
        {
          "output_type": "execute_result",
          "data": {
            "text/plain": [
              "(8,)"
            ]
          },
          "metadata": {},
          "execution_count": 27
        }
      ]
    },
    {
      "cell_type": "code",
      "source": [
        "import random as rd \n",
        "import numpy as np \n",
        "#geração de numeros entre 150 e 209\n",
        "height=range(150,210)\n",
        "print(range(150,210))\n",
        "#geração de números entre 50 e 149\n",
        "weight= range(50,150)\n",
        "print(range(50,150))\n",
        "#amostra randonica de 20 numeros de height\n",
        "height=rd.sample(height,20)\n",
        "print(rd.sample(height,20))\n",
        "#amostra randomica de 20 numeros de weight\n",
        "weight=rd.sample(weight,20)\n",
        "print(rd.sample(weight,20))\n",
        "#converter height em array e normalizar multiplicando por 0,01\n",
        "height_array=np.array(height)*0.01\n",
        "print(height_array)\n",
        "#converter weight em array\n",
        "weight_array=np.array(weight)\n",
        "#calculo do BMI\n",
        "bmi= weight_array/height_array**2\n",
        "print(bmi)\n",
        "#verificação onde bmi é menor que 21\n",
        "light= bmi<21\n",
        "#print light\n",
        "print(light)\n",
        "#exibição dos valores de bmi com valor menor que 21 "
      ],
      "metadata": {
        "colab": {
          "base_uri": "https://localhost:8080/"
        },
        "id": "ZSD8hc6zMAwy",
        "outputId": "73657db4-9def-43c5-b924-352b7211e160"
      },
      "execution_count": 43,
      "outputs": [
        {
          "output_type": "stream",
          "name": "stdout",
          "text": [
            "range(150, 210)\n",
            "range(50, 150)\n",
            "[192, 176, 150, 197, 184, 186, 185, 161, 194, 204, 191, 164, 163, 151, 167, 202, 173, 152, 209, 159]\n",
            "[132, 55, 100, 90, 107, 50, 98, 130, 64, 131, 146, 68, 96, 99, 66, 134, 81, 60, 54, 110]\n",
            "[1.94 1.97 2.02 1.92 1.86 1.84 1.73 1.52 2.04 1.91 1.61 1.67 1.51 2.09\n",
            " 1.59 1.76 1.63 1.64 1.5  1.85]\n",
            "[34.80709959 24.73653019 13.23399667 13.56336806 42.20141057 38.3979206\n",
            " 33.41240937 42.84972299 26.43214148 36.18321866 24.69040546 21.51385851\n",
            " 35.52475769 30.67695337 26.10656224 21.95247934 36.88509165 39.78286734\n",
            " 40.         16.07012418]\n",
            "[False False  True  True False False False False False False False False\n",
            " False False False False False False False  True]\n"
          ]
        }
      ]
    }
  ]
}
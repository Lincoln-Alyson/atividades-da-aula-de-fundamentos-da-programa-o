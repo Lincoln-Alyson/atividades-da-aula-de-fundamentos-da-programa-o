{
  "nbformat": 4,
  "nbformat_minor": 0,
  "metadata": {
    "colab": {
      "provenance": [],
      "authorship_tag": "ABX9TyMuASPxuDJk16+eI95c2EXe",
      "include_colab_link": true
    },
    "kernelspec": {
      "name": "python3",
      "display_name": "Python 3"
    },
    "language_info": {
      "name": "python"
    }
  },
  "cells": [
    {
      "cell_type": "markdown",
      "metadata": {
        "id": "view-in-github",
        "colab_type": "text"
      },
      "source": [
        "<a href=\"https://colab.research.google.com/github/Lincoln-Alyson/atividades-da-aula-de-fundamentos-da-programa-o/blob/main/aula_10_04.ipynb\" target=\"_parent\"><img src=\"https://colab.research.google.com/assets/colab-badge.svg\" alt=\"Open In Colab\"/></a>"
      ]
    },
    {
      "cell_type": "code",
      "source": [
        "import numpy as np"
      ],
      "metadata": {
        "id": "SAqOQtu1FefF"
      },
      "execution_count": null,
      "outputs": []
    },
    {
      "cell_type": "code",
      "source": [
        "np_2d= np.array([[1.73,1.68,1.71,1.89,1.79],[65.4,59.2,63.6,88.4,68.7]])\n",
        "np_2d"
      ],
      "metadata": {
        "colab": {
          "base_uri": "https://localhost:8080/"
        },
        "id": "QNbbatQDFmn0",
        "outputId": "a0142596-b83d-4bb7-bc5a-532735bd96fc"
      },
      "execution_count": null,
      "outputs": [
        {
          "output_type": "execute_result",
          "data": {
            "text/plain": [
              "array([[ 1.73,  1.68,  1.71,  1.89,  1.79],\n",
              "       [65.4 , 59.2 , 63.6 , 88.4 , 68.7 ]])"
            ]
          },
          "metadata": {},
          "execution_count": 6
        }
      ]
    },
    {
      "cell_type": "code",
      "source": [
        "np_2d.shape"
      ],
      "metadata": {
        "colab": {
          "base_uri": "https://localhost:8080/"
        },
        "id": "IDVG0l7oFvZV",
        "outputId": "b3c0f03e-5523-4bc9-b955-1eb6fa9cbfe1"
      },
      "execution_count": null,
      "outputs": [
        {
          "output_type": "execute_result",
          "data": {
            "text/plain": [
              "(2, 5)"
            ]
          },
          "metadata": {},
          "execution_count": 7
        }
      ]
    },
    {
      "cell_type": "code",
      "source": [
        "np.array([[1.73,1.68,1.71,1.89,1.79],[65.4,59.2,63.6,88.4,\"68.7\"]])"
      ],
      "metadata": {
        "colab": {
          "base_uri": "https://localhost:8080/"
        },
        "id": "sIw9JkomF2v8",
        "outputId": "26603226-06ba-4dac-aaf4-bb03d5c859eb"
      },
      "execution_count": null,
      "outputs": [
        {
          "output_type": "execute_result",
          "data": {
            "text/plain": [
              "array([['1.73', '1.68', '1.71', '1.89', '1.79'],\n",
              "       ['65.4', '59.2', '63.6', '88.4', '68.7']], dtype='<U32')"
            ]
          },
          "metadata": {},
          "execution_count": 9
        }
      ]
    },
    {
      "cell_type": "code",
      "source": [
        "np_3d=np.array([[1.73,1.68,1.71,1.89,1.79],[65.4,59.2,63.6,88.4,68.7],[89.4,45.6,28.4,76.1,43.8]])"
      ],
      "metadata": {
        "id": "d4p0NPIqGUV9"
      },
      "execution_count": null,
      "outputs": []
    },
    {
      "cell_type": "code",
      "source": [
        "np_3d.shape"
      ],
      "metadata": {
        "colab": {
          "base_uri": "https://localhost:8080/"
        },
        "id": "Dh_x2xi_IR0F",
        "outputId": "392a8379-fab6-44c7-ae5f-43421aa074c5"
      },
      "execution_count": null,
      "outputs": [
        {
          "output_type": "execute_result",
          "data": {
            "text/plain": [
              "(3, 5)"
            ]
          },
          "metadata": {},
          "execution_count": 13
        }
      ]
    },
    {
      "cell_type": "code",
      "source": [
        "np_4d=np.array([[1,2,3],[4,5,6],[7,8,9]])"
      ],
      "metadata": {
        "id": "FaOM7-0nIgjb"
      },
      "execution_count": null,
      "outputs": []
    },
    {
      "cell_type": "code",
      "source": [
        "np_4d.shape"
      ],
      "metadata": {
        "colab": {
          "base_uri": "https://localhost:8080/"
        },
        "id": "hxmT_KfCIxjT",
        "outputId": "0021dd9d-d677-413d-cf8a-5da73de20678"
      },
      "execution_count": null,
      "outputs": [
        {
          "output_type": "execute_result",
          "data": {
            "text/plain": [
              "(3, 3)"
            ]
          },
          "metadata": {},
          "execution_count": 15
        }
      ]
    },
    {
      "cell_type": "code",
      "source": [
        "np_2d[0]"
      ],
      "metadata": {
        "colab": {
          "base_uri": "https://localhost:8080/"
        },
        "id": "kx3hpXJ3JDF0",
        "outputId": "48e97ef7-f4ef-4247-9a75-d5c26b47aaa3"
      },
      "execution_count": null,
      "outputs": [
        {
          "output_type": "execute_result",
          "data": {
            "text/plain": [
              "array(['1.73', '1.68', '1.71', '1.89', '1.79'], dtype='<U32')"
            ]
          },
          "metadata": {},
          "execution_count": 16
        }
      ]
    },
    {
      "cell_type": "code",
      "source": [
        "np_2d[0][2]"
      ],
      "metadata": {
        "colab": {
          "base_uri": "https://localhost:8080/",
          "height": 35
        },
        "id": "0LKQaf_yJHWT",
        "outputId": "3fd79aaf-623c-4a98-ed91-230b007c1d65"
      },
      "execution_count": null,
      "outputs": [
        {
          "output_type": "execute_result",
          "data": {
            "text/plain": [
              "'1.71'"
            ],
            "application/vnd.google.colaboratory.intrinsic+json": {
              "type": "string"
            }
          },
          "metadata": {},
          "execution_count": 17
        }
      ]
    },
    {
      "cell_type": "code",
      "source": [
        "np_2d[0,2]"
      ],
      "metadata": {
        "colab": {
          "base_uri": "https://localhost:8080/",
          "height": 35
        },
        "id": "O6mUIv1DJNrs",
        "outputId": "75d7954b-2c8c-4d78-d87e-7afe8d752409"
      },
      "execution_count": null,
      "outputs": [
        {
          "output_type": "execute_result",
          "data": {
            "text/plain": [
              "'1.71'"
            ],
            "application/vnd.google.colaboratory.intrinsic+json": {
              "type": "string"
            }
          },
          "metadata": {},
          "execution_count": 18
        }
      ]
    },
    {
      "cell_type": "code",
      "source": [
        "np_2d[:,1:3]"
      ],
      "metadata": {
        "colab": {
          "base_uri": "https://localhost:8080/"
        },
        "id": "68Gr02EnJ1AU",
        "outputId": "7d74ea86-f9b0-468d-fc2e-7a11337948e7"
      },
      "execution_count": null,
      "outputs": [
        {
          "output_type": "execute_result",
          "data": {
            "text/plain": [
              "array([['1.68', '1.71'],\n",
              "       ['59.2', '63.6']], dtype='<U32')"
            ]
          },
          "metadata": {},
          "execution_count": 19
        }
      ]
    },
    {
      "cell_type": "code",
      "source": [
        "np_2d[1,:]"
      ],
      "metadata": {
        "colab": {
          "base_uri": "https://localhost:8080/"
        },
        "id": "bqPCKdAfKHAC",
        "outputId": "7268d9a9-6f51-4531-fcc2-7f0424483df0"
      },
      "execution_count": null,
      "outputs": [
        {
          "output_type": "execute_result",
          "data": {
            "text/plain": [
              "array(['65.4', '59.2', '63.6', '88.4', '68.7'], dtype='<U32')"
            ]
          },
          "metadata": {},
          "execution_count": 20
        }
      ]
    },
    {
      "cell_type": "code",
      "source": [
        "baseball=[180,215,210,210,188,176,209,200]"
      ],
      "metadata": {
        "id": "0Y9PkYRMKOWc"
      },
      "execution_count": null,
      "outputs": []
    },
    {
      "cell_type": "code",
      "source": [
        "#1\n",
        "import numpy as np"
      ],
      "metadata": {
        "id": "jS04ClFQKfh7"
      },
      "execution_count": null,
      "outputs": []
    },
    {
      "cell_type": "code",
      "source": [
        "#2\n",
        "np_baseball=np.array([180,215,210,210,188,176,209,200])"
      ],
      "metadata": {
        "id": "PT_NDY2QKmHa"
      },
      "execution_count": null,
      "outputs": []
    },
    {
      "cell_type": "code",
      "source": [
        "#3\n",
        "print(np_baseball)"
      ],
      "metadata": {
        "colab": {
          "base_uri": "https://localhost:8080/"
        },
        "id": "ajw3SQCdLT3s",
        "outputId": "f111b539-1f69-42bd-a16a-f3d52c1b47fe"
      },
      "execution_count": null,
      "outputs": [
        {
          "output_type": "stream",
          "name": "stdout",
          "text": [
            "[180 215 210 210 188 176 209 200]\n"
          ]
        }
      ]
    },
    {
      "cell_type": "code",
      "source": [
        "#4\n",
        "np_baseball.shape"
      ],
      "metadata": {
        "colab": {
          "base_uri": "https://localhost:8080/"
        },
        "id": "jgJy-vj2Ldz6",
        "outputId": "8425593c-32d2-4a5a-e04c-1e3def285bbb"
      },
      "execution_count": null,
      "outputs": [
        {
          "output_type": "execute_result",
          "data": {
            "text/plain": [
              "(8,)"
            ]
          },
          "metadata": {},
          "execution_count": 27
        }
      ]
    },
    {
      "cell_type": "code",
      "source": [
        "import random as rd \n",
        "import numpy as np \n",
        "#geração de numeros entre 150 e 209\n",
        "height=range(150,210)\n",
        "print(range(150,210))\n",
        "#geração de números entre 50 e 149\n",
        "weight= range(50,150)\n",
        "print(range(50,150))\n",
        "#amostra randonica de 20 numeros de height\n",
        "height=rd.sample(height,20)\n",
        "print(rd.sample(height,20))\n",
        "#amostra randomica de 20 numeros de weight\n",
        "weight=rd.sample(weight,20)\n",
        "print(rd.sample(weight,20))\n",
        "#converter height em array e normalizar multiplicando por 0,01\n",
        "height_array=np.array(height)*0.01\n",
        "print(height_array)\n",
        "#converter weight em array\n",
        "weight_array=np.array(weight)\n",
        "#calculo do BMI\n",
        "bmi= weight_array/height_array**2\n",
        "print(bmi)\n",
        "#verificação onde bmi é menor que 21\n",
        "light= bmi<21\n",
        "#print light\n",
        "print(light)\n",
        "#exibição dos valores de bmi com valor menor que 21 \n",
        "print(bmi[bmi<21])\n",
        "#print os elementos de weight_array do index 8 ate o index 15, incluindo o index 15\n",
        "print(weight_array[9:16])\n",
        "#print os elemntos de height_array do index 11 ate o 19, incluindo o 19\n",
        "print(height_array[12:20])"
      ],
      "metadata": {
        "colab": {
          "base_uri": "https://localhost:8080/"
        },
        "id": "ZSD8hc6zMAwy",
        "outputId": "19a282b5-e1cc-4582-dc6f-4ae21ce6b453"
      },
      "execution_count": 4,
      "outputs": [
        {
          "output_type": "stream",
          "name": "stdout",
          "text": [
            "range(150, 210)\n",
            "range(50, 150)\n",
            "[194, 159, 156, 203, 184, 198, 172, 208, 160, 199, 164, 170, 181, 185, 175, 201, 188, 204, 180, 177]\n",
            "[139, 137, 114, 98, 68, 146, 134, 136, 62, 96, 149, 71, 147, 131, 133, 89, 122, 115, 86, 138]\n",
            "[1.98 1.84 1.59 2.03 2.08 1.94 1.99 1.6  1.7  1.72 2.04 1.8  1.85 1.64\n",
            " 1.77 2.01 1.88 1.56 1.81 1.75]\n",
            "[22.70176513 18.31285444 58.14643408 27.66385984 19.87795858 39.58975449\n",
            " 35.10012373 57.03125    47.05882353 38.87236344 31.47827759 41.04938272\n",
            " 40.02921841 51.30874479 21.70512943 24.25682533 27.16161159 50.13149244\n",
            " 40.90229236 23.18367347]\n",
            "[False  True False False  True False False False False False False False\n",
            " False False False False False False False False]\n",
            "[18.31285444 19.87795858]\n",
            "[115 131 133 137 138  68  98]\n",
            "[1.85 1.64 1.77 2.01 1.88 1.56 1.81 1.75]\n"
          ]
        }
      ]
    },
    {
      "cell_type": "code",
      "source": [
        "import numpy as np\n",
        "baseball=[[180,78.4],[215,102.7],[210,98.5],[188,75.2]]\n",
        "np_baseball=np.array([[180,78.4],[215,102.7],[210,98.5],[188,75.2]])\n",
        "print(np_baseball[2])\n",
        "np_weight_lb=(np_baseball[:,1])\n",
        "print(np_weight_lb)\n",
        "print(np_baseball[1,0])\n",
        "np.median(np_baseball[:,0])\n",
        "np.median(np_baseball[1])"
      ],
      "metadata": {
        "colab": {
          "base_uri": "https://localhost:8080/"
        },
        "id": "aCLRwIImUKaX",
        "outputId": "119437b4-37e1-4799-de35-69b9101312f5"
      },
      "execution_count": null,
      "outputs": [
        {
          "output_type": "stream",
          "name": "stdout",
          "text": [
            "[210.   98.5]\n",
            "[ 78.4 102.7  98.5  75.2]\n",
            "215.0\n"
          ]
        },
        {
          "output_type": "execute_result",
          "data": {
            "text/plain": [
              "158.85"
            ]
          },
          "metadata": {},
          "execution_count": 59
        }
      ]
    }
  ]
}
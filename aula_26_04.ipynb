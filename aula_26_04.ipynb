{
  "nbformat": 4,
  "nbformat_minor": 0,
  "metadata": {
    "colab": {
      "provenance": [],
      "authorship_tag": "ABX9TyMRQL9AO9y8YXbDF1Yont2z",
      "include_colab_link": true
    },
    "kernelspec": {
      "name": "python3",
      "display_name": "Python 3"
    },
    "language_info": {
      "name": "python"
    }
  },
  "cells": [
    {
      "cell_type": "markdown",
      "metadata": {
        "id": "view-in-github",
        "colab_type": "text"
      },
      "source": [
        "<a href=\"https://colab.research.google.com/github/Lincoln-Alyson/atividades-da-aula-de-fundamentos-da-programa-o/blob/main/aula_26_04.ipynb\" target=\"_parent\"><img src=\"https://colab.research.google.com/assets/colab-badge.svg\" alt=\"Open In Colab\"/></a>"
      ]
    },
    {
      "cell_type": "code",
      "execution_count": 13,
      "metadata": {
        "id": "md3Q-_Wpyeep",
        "colab": {
          "base_uri": "https://localhost:8080/"
        },
        "outputId": "3bbcda73-955c-4a18-df02-c61661d4116c"
      },
      "outputs": [
        {
          "output_type": "stream",
          "name": "stdout",
          "text": [
            "2.77\n",
            "30.55\n"
          ]
        }
      ],
      "source": [
        "#exemplo\n",
        "pop=[30.55,2.77,39.21]\n",
        "countries=[\"afeganistao\",\"albania\",\"algeria\"]\n",
        "\n",
        "world={\"afeganistao\":30.55,\"albania\":2.77,\"algeria\":39.21}\n",
        "print(world[\"albania\"])\n",
        "print(world[\"afeganistao\"])"
      ]
    },
    {
      "cell_type": "code",
      "source": [
        "#questão 1\n",
        "contries=['spain','france','germany','norway']\n",
        "capitals=['madrid','paris','berlin','oslo']\n",
        "europe={'spain':'madrid','france':'paris','germany':'berlin','norway':'oslo'}\n",
        "print(europe)"
      ],
      "metadata": {
        "colab": {
          "base_uri": "https://localhost:8080/"
        },
        "id": "YZoX2RzmghIn",
        "outputId": "bdeb9640-b112-4fc2-d3fd-60031a4cfe8e"
      },
      "execution_count": 12,
      "outputs": [
        {
          "output_type": "stream",
          "name": "stdout",
          "text": [
            "{'spain': 'madrid', 'france': 'paris', 'germany': 'berlin', 'norway': 'oslo'}\n"
          ]
        }
      ]
    },
    {
      "cell_type": "code",
      "source": [
        "#questão 2\n",
        "print(europe.keys())\n",
        "europe['norway']"
      ],
      "metadata": {
        "colab": {
          "base_uri": "https://localhost:8080/",
          "height": 53
        },
        "id": "CL26OCiBhg62",
        "outputId": "b0a49a3f-43e4-4ea2-92af-8f8eed62971f"
      },
      "execution_count": 30,
      "outputs": [
        {
          "output_type": "stream",
          "name": "stdout",
          "text": [
            "dict_keys(['spain', 'france', 'germany', 'norway'])\n"
          ]
        },
        {
          "output_type": "execute_result",
          "data": {
            "text/plain": [
              "'oslo'"
            ],
            "application/vnd.google.colaboratory.intrinsic+json": {
              "type": "string"
            }
          },
          "metadata": {},
          "execution_count": 30
        }
      ]
    },
    {
      "cell_type": "code",
      "source": [
        "world={\"afeganistao\":30.55,\"albania\":2.77,\"algeria\":39.21}\n",
        "print(world['albania'])\n",
        "world={\"afeganistao\":30.55,\"albania\":2.77,\"algeria\":39.21,'albania':2.81}\n",
        "print(world)\n",
        "world={\"afeganistao\":30.55,\"albania\":2.77,\"algeria\":39.21}\n",
        "world[\"sealand\"]=0.000027\n",
        "\"sealand\" in world\n",
        "print(world)\n",
        "del(world[\"sealand\"])\n",
        "print(world)"
      ],
      "metadata": {
        "colab": {
          "base_uri": "https://localhost:8080/"
        },
        "id": "CUcbcqBvlEfO",
        "outputId": "815082f8-75a3-4ed7-ab4d-4ade64d307f7"
      },
      "execution_count": 36,
      "outputs": [
        {
          "output_type": "stream",
          "name": "stdout",
          "text": [
            "2.77\n",
            "{'afeganistao': 30.55, 'albania': 2.81, 'algeria': 39.21}\n",
            "{'afeganistao': 30.55, 'albania': 2.77, 'algeria': 39.21, 'sealand': 2.7e-05}\n",
            "{'afeganistao': 30.55, 'albania': 2.77, 'algeria': 39.21}\n"
          ]
        }
      ]
    },
    {
      "cell_type": "code",
      "source": [
        "#1 questão\n",
        "europe={'spain':'madrid','france':'paris','germany':'berlin','norway':'oslo'}\n",
        "europe['italy']='rome'\n",
        "print(europe)\n",
        "#2 questão\n",
        "print(europe['italy'])\n",
        "#3 questão\n",
        "europe['poland']='warsaw'\n",
        "#4 questão\n",
        "print(europe)"
      ],
      "metadata": {
        "colab": {
          "base_uri": "https://localhost:8080/"
        },
        "id": "W1SM83-ankb-",
        "outputId": "cf1f8c3e-1068-4430-f09e-c0d9133e5b1c"
      },
      "execution_count": 40,
      "outputs": [
        {
          "output_type": "stream",
          "name": "stdout",
          "text": [
            "{'spain': 'madrid', 'france': 'paris', 'germany': 'berlin', 'norway': 'oslo', 'italy': 'rome'}\n",
            "rome\n",
            "{'spain': 'madrid', 'france': 'paris', 'germany': 'berlin', 'norway': 'oslo', 'italy': 'rome', 'poland': 'warsaw'}\n"
          ]
        }
      ]
    },
    {
      "cell_type": "code",
      "source": [
        "europe={'spain':'madrid','france':'paris','germany':'bonn','norway':'oslo', 'italy': 'rome', 'poland': 'warsaw','australia':'vienna'}\n",
        "#questão 1\n",
        "europe['germany']='berlin'\n",
        "#questão 2\n",
        "del(europe['australia'])\n",
        "#questão 3\n",
        "print(europe)"
      ],
      "metadata": {
        "colab": {
          "base_uri": "https://localhost:8080/"
        },
        "id": "B5rCPyZVojpe",
        "outputId": "0e24697b-b635-419f-e870-0f6f17a07d9e"
      },
      "execution_count": 43,
      "outputs": [
        {
          "output_type": "stream",
          "name": "stdout",
          "text": [
            "{'spain': 'madrid', 'france': 'paris', 'germany': 'berlin', 'norway': 'oslo', 'italy': 'rome', 'poland': 'warsaw'}\n"
          ]
        }
      ]
    },
    {
      "cell_type": "code",
      "source": [
        "europe={'spain':{'capital':'madrid','population':46.77},\n",
        "        'france':{'capital':'paris','population':66.03},\n",
        "        'germany':{'capital':'berlin','population':80.62},\n",
        "        'norway':{'capital':'oslo','population':5.084}}\n",
        "#questão 1\n",
        "print(europe['france']['capital'])\n",
        "#questão 2\n",
        "data={'capital':'rome','population':59.83}\n",
        "#questão 3\n",
        "europe={'spain':{'capital':'madrid','population':46.77},\n",
        "        'france':{'capital':'paris','population':66.03},\n",
        "        'germany':{'capital':'berlin','population':80.62},\n",
        "        'norway':{'capital':'oslo','population':5.084},'italy':{}}\n",
        "europe['italy']= data\n",
        "#questão 4\n",
        "print(europe)"
      ],
      "metadata": {
        "colab": {
          "base_uri": "https://localhost:8080/"
        },
        "id": "l7SpgSJHpeQW",
        "outputId": "34aa2caa-84a2-4e64-a7de-0c46dddc8125"
      },
      "execution_count": 61,
      "outputs": [
        {
          "output_type": "stream",
          "name": "stdout",
          "text": [
            "paris\n",
            "{'spain': {'capital': 'madrid', 'population': 46.77}, 'france': {'capital': 'paris', 'population': 66.03}, 'germany': {'capital': 'berlin', 'population': 80.62}, 'norway': {'capital': 'oslo', 'population': 5.084}, 'italy': {'capital': 'rome', 'population': 59.83}}\n"
          ]
        }
      ]
    }
  ]
}
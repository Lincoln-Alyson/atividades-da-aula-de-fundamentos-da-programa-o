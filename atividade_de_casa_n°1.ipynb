{
  "nbformat": 4,
  "nbformat_minor": 0,
  "metadata": {
    "colab": {
      "provenance": [],
      "authorship_tag": "ABX9TyPe8sIXk80XcOlVre81LGDr",
      "include_colab_link": true
    },
    "kernelspec": {
      "name": "python3",
      "display_name": "Python 3"
    },
    "language_info": {
      "name": "python"
    }
  },
  "cells": [
    {
      "cell_type": "markdown",
      "metadata": {
        "id": "view-in-github",
        "colab_type": "text"
      },
      "source": [
        "<a href=\"https://colab.research.google.com/github/Lincoln-Alyson/atividades-da-aula-de-fundamentos-da-programa-o/blob/main/atividade_de_casa_n%C2%B01.ipynb\" target=\"_parent\"><img src=\"https://colab.research.google.com/assets/colab-badge.svg\" alt=\"Open In Colab\"/></a>"
      ]
    },
    {
      "cell_type": "code",
      "execution_count": 3,
      "metadata": {
        "colab": {
          "base_uri": "https://localhost:8080/"
        },
        "id": "cZlCxRHR9_DA",
        "outputId": "e9d180f0-f148-4f40-f7f8-924a2d5393e5"
      },
      "outputs": [
        {
          "output_type": "stream",
          "name": "stdout",
          "text": [
            "Lincoln 8.5\n",
            "<class 'float'>\n"
          ]
        }
      ],
      "source": [
        "#primeira questão\n",
        "aluno=\"Lincoln\"\n",
        "nota1=7.5\n",
        "nota2=8.0\n",
        "nota3=10\n",
        "média=8.5\n",
        "print(aluno,média)\n",
        "print(type(média))"
      ]
    },
    {
      "cell_type": "code",
      "source": [
        "#segunda questão\n",
        "a= \"Lincoln\"\n",
        "b= \"Alyson\"\n",
        "c= \"Melo\"\n",
        "d= \"Lembi\"\n",
        "nome_completo=(a+b+c+d)\n",
        "print(nome_completo)"
      ],
      "metadata": {
        "colab": {
          "base_uri": "https://localhost:8080/"
        },
        "id": "QpfCTPPLBB_z",
        "outputId": "267c3eb2-71f0-414d-fa72-0cb34150b129"
      },
      "execution_count": 7,
      "outputs": [
        {
          "output_type": "stream",
          "name": "stdout",
          "text": [
            "LincolnAlysonMeloLembi\n"
          ]
        }
      ]
    },
    {
      "cell_type": "code",
      "source": [
        "#terceira questão\n",
        "lista_de_alimentos=['banana','maçã','pera','uva','abacaxi','limão','laranja','kiwi','abacate','pessego']\n",
        "print(lista_de_alimentos[-1])\n",
        "print(lista_de_alimentos[3])\n",
        "print(lista_de_alimentos[:5])\n",
        "print(lista_de_alimentos[7:])\n",
        "print(lista_de_alimentos[2:7])"
      ],
      "metadata": {
        "colab": {
          "base_uri": "https://localhost:8080/"
        },
        "id": "5U12fVYUG5r7",
        "outputId": "aa2fe02e-b0a5-4801-fd01-0633850c10cc"
      },
      "execution_count": 11,
      "outputs": [
        {
          "output_type": "stream",
          "name": "stdout",
          "text": [
            "pessego\n",
            "uva\n",
            "['banana', 'maçã', 'pera', 'uva', 'abacaxi']\n",
            "['kiwi', 'abacate', 'pessego']\n",
            "['pera', 'uva', 'abacaxi', 'limão', 'laranja']\n"
          ]
        }
      ]
    },
    {
      "cell_type": "code",
      "source": [
        "#quarta questão\n",
        "banana=2.0\n",
        "maçã=5.50\n",
        "pera=7.0\n",
        "uva=10.0\n",
        "abacaxi=6.0\n",
        "limão=5.4\n",
        "laranja=2.5\n",
        "kiwi=6.99\n",
        "abacate=4.49\n",
        "pessego=7.99\n",
        "lista_de_alimentos=['banana',banana,'maçã',maçã,'pera',pera,'uva',uva,'abacaxi',abacaxi,'limão',limão,'laranja',laranja,'kiwi',kiwi,'abacate',abacate,'pessego',pessego]\n",
        "gasto_total=({banana+maçã+pera+uva+abacaxi+limão+laranja+kiwi+abacate+pessego})\n",
        "print(gasto_total)\n",
        "alimentos_mais_caros=[lista_de_alimentos[7]+lista_de_alimentos[-1]+lista_de_alimentos[5]]\n",
        "print(alimentos_mais_caros)"
      ],
      "metadata": {
        "colab": {
          "base_uri": "https://localhost:8080/"
        },
        "id": "ApEajgUQI878",
        "outputId": "51caf1c0-542a-482e-9b2b-030d7f0d1d83"
      },
      "execution_count": 19,
      "outputs": [
        {
          "output_type": "stream",
          "name": "stdout",
          "text": [
            "{57.870000000000005}\n",
            "[24.990000000000002]\n"
          ]
        }
      ]
    },
    {
      "cell_type": "code",
      "source": [
        "#quinta questão\n",
        "lista_de_alimentos2=[['banana',banana],['maçã',maçã],['pera',pera],['uva',uva],['abacaxi',abacaxi],['limão',limão],['laranja',laranja],['kiwi',kiwi],['abacate',abacate],['pessego',pessego]]\n",
        "lista3=(lista_de_alimentos2[2])\n",
        "print(lista3)\n",
        "lista2a4=(lista_de_alimentos2[1:4])\n",
        "print(lista2a4)\n",
        "#lista_de_alimentos2[2][1]\n",
        "#lista_de_alimentos2[3][0]\n",
        "#lista_de_alimentos2[4][1]\n",
        "#lista_de_alimentos2[0][0]\n"
      ],
      "metadata": {
        "colab": {
          "base_uri": "https://localhost:8080/"
        },
        "id": "0tUCUk9zbafw",
        "outputId": "f7b792fd-a275-40d9-9865-50537d64d018"
      },
      "execution_count": 32,
      "outputs": [
        {
          "output_type": "stream",
          "name": "stdout",
          "text": [
            "['pera', 7.0]\n",
            "[['maçã', 5.5], ['pera', 7.0], ['uva', 10.0]]\n"
          ]
        }
      ]
    }
  ]
}